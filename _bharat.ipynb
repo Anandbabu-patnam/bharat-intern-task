{
 "cells": [
  {
   "cell_type": "code",
   "execution_count": 43,
   "id": "94e538d9-3f0e-4d44-852e-8fb2d5327102",
   "metadata": {},
   "outputs": [],
   "source": [
    "import numpy as np\n",
    "import pandas as pd\n",
    "from sklearn.preprocessing import MinMaxScaler\n",
    "from tensorflow.keras.models import Sequential\n",
    "from tensorflow.keras.layers import Dense, LSTM\n",
    "import matplotlib.pyplot as plt"
   ]
  },
  {
   "cell_type": "code",
   "execution_count": 44,
   "id": "5e8977ec-639f-4a12-86bc-db9c4220c288",
   "metadata": {},
   "outputs": [],
   "source": [
    "df = pd.read_csv(\"WIPRO_stock_dataset.csv\")"
   ]
  },
  {
   "cell_type": "code",
   "execution_count": 45,
   "id": "a45ae94b-439f-468f-87a0-0a254780bbac",
   "metadata": {},
   "outputs": [
    {
     "data": {
      "text/plain": [
       "<bound method NDFrame.head of             Date Symbol Series  Prev Close     Open     High      Low  \\\n",
       "0     2000-01-03  WIPRO     EQ     2522.40  2724.00  2724.20  2724.00   \n",
       "1     2000-01-04  WIPRO     EQ     2724.20  2942.15  2942.15  2942.15   \n",
       "2     2000-01-05  WIPRO     EQ     2942.15  2942.15  3177.55  2715.00   \n",
       "3     2000-01-06  WIPRO     EQ     2990.10  3144.70  3183.00  2790.00   \n",
       "4     2000-01-07  WIPRO     EQ     2932.25  2751.00  2751.00  2697.70   \n",
       "...          ...    ...    ...         ...      ...      ...      ...   \n",
       "5301  2021-04-26  WIPRO     EQ      475.70   479.40   483.85   477.00   \n",
       "5302  2021-04-27  WIPRO     EQ      480.30   481.40   487.00   481.00   \n",
       "5303  2021-04-28  WIPRO     EQ      485.05   485.85   493.20   481.25   \n",
       "5304  2021-04-29  WIPRO     EQ      489.30   492.70   492.80   485.70   \n",
       "5305  2021-04-30  WIPRO     EQ      489.85   491.50   511.80   489.30   \n",
       "\n",
       "         Last    Close     VWAP    Volume      Turnover    Trades  \\\n",
       "0     2724.20  2724.20  2724.17      1599  4.355942e+11       NaN   \n",
       "1     2942.15  2942.15  2942.15      4392  1.292192e+12       NaN   \n",
       "2     3000.00  2990.10  3063.86    132297  4.053390e+13       NaN   \n",
       "3     2915.00  2932.25  2962.41     72840  2.157822e+13       NaN   \n",
       "4     2697.70  2697.70  2697.95     10110  2.727630e+12       NaN   \n",
       "...       ...      ...      ...       ...           ...       ...   \n",
       "5301   482.00   480.30   479.77   9314644  4.468927e+14   89443.0   \n",
       "5302   483.85   485.05   484.07   7209467  3.489910e+14  112831.0   \n",
       "5303   488.65   489.30   487.55   9615534  4.688083e+14  123736.0   \n",
       "5304   489.00   489.85   489.45   7641133  3.739989e+14   82446.0   \n",
       "5305   492.50   492.75   501.42  29115571  1.459925e+15  252478.0   \n",
       "\n",
       "      Deliverable Volume  %Deliverble  \n",
       "0                    NaN          NaN  \n",
       "1                    NaN          NaN  \n",
       "2                    NaN          NaN  \n",
       "3                    NaN          NaN  \n",
       "4                    NaN          NaN  \n",
       "...                  ...          ...  \n",
       "5301           3081057.0       0.3308  \n",
       "5302           2548269.0       0.3535  \n",
       "5303           3254249.0       0.3384  \n",
       "5304           2534352.0       0.3317  \n",
       "5305           5182914.0       0.1780  \n",
       "\n",
       "[5306 rows x 15 columns]>"
      ]
     },
     "execution_count": 45,
     "metadata": {},
     "output_type": "execute_result"
    }
   ],
   "source": [
    "df.head"
   ]
  },
  {
   "cell_type": "code",
   "execution_count": 46,
   "id": "6ea50deb-1098-4f67-b4f2-91b1f3d63733",
   "metadata": {},
   "outputs": [
    {
     "name": "stdout",
     "output_type": "stream",
     "text": [
      "<class 'pandas.core.frame.DataFrame'>\n",
      "RangeIndex: 5306 entries, 0 to 5305\n",
      "Data columns (total 15 columns):\n",
      " #   Column              Non-Null Count  Dtype  \n",
      "---  ------              --------------  -----  \n",
      " 0   Date                5306 non-null   object \n",
      " 1   Symbol              5306 non-null   object \n",
      " 2   Series              5306 non-null   object \n",
      " 3   Prev Close          5306 non-null   float64\n",
      " 4   Open                5306 non-null   float64\n",
      " 5   High                5306 non-null   float64\n",
      " 6   Low                 5306 non-null   float64\n",
      " 7   Last                5306 non-null   float64\n",
      " 8   Close               5306 non-null   float64\n",
      " 9   VWAP                5306 non-null   float64\n",
      " 10  Volume              5306 non-null   int64  \n",
      " 11  Turnover            5306 non-null   float64\n",
      " 12  Trades              2456 non-null   float64\n",
      " 13  Deliverable Volume  4797 non-null   float64\n",
      " 14  %Deliverble         4797 non-null   float64\n",
      "dtypes: float64(11), int64(1), object(3)\n",
      "memory usage: 621.9+ KB\n"
     ]
    }
   ],
   "source": [
    "df.info()"
   ]
  },
  {
   "cell_type": "code",
   "execution_count": 47,
   "id": "4eb4501c-c8da-4eb2-aacd-59619fdec1fa",
   "metadata": {},
   "outputs": [
    {
     "data": {
      "text/html": [
       "<div>\n",
       "<style scoped>\n",
       "    .dataframe tbody tr th:only-of-type {\n",
       "        vertical-align: middle;\n",
       "    }\n",
       "\n",
       "    .dataframe tbody tr th {\n",
       "        vertical-align: top;\n",
       "    }\n",
       "\n",
       "    .dataframe thead th {\n",
       "        text-align: right;\n",
       "    }\n",
       "</style>\n",
       "<table border=\"1\" class=\"dataframe\">\n",
       "  <thead>\n",
       "    <tr style=\"text-align: right;\">\n",
       "      <th></th>\n",
       "      <th>Prev Close</th>\n",
       "      <th>Open</th>\n",
       "      <th>High</th>\n",
       "      <th>Low</th>\n",
       "      <th>Last</th>\n",
       "      <th>Close</th>\n",
       "      <th>VWAP</th>\n",
       "      <th>Volume</th>\n",
       "      <th>Turnover</th>\n",
       "      <th>Trades</th>\n",
       "      <th>Deliverable Volume</th>\n",
       "      <th>%Deliverble</th>\n",
       "    </tr>\n",
       "  </thead>\n",
       "  <tbody>\n",
       "    <tr>\n",
       "      <th>count</th>\n",
       "      <td>5306.000000</td>\n",
       "      <td>5306.000000</td>\n",
       "      <td>5306.000000</td>\n",
       "      <td>5306.000000</td>\n",
       "      <td>5306.000000</td>\n",
       "      <td>5306.000000</td>\n",
       "      <td>5306.000000</td>\n",
       "      <td>5.306000e+03</td>\n",
       "      <td>5.306000e+03</td>\n",
       "      <td>2456.000000</td>\n",
       "      <td>4.797000e+03</td>\n",
       "      <td>4797.000000</td>\n",
       "    </tr>\n",
       "    <tr>\n",
       "      <th>mean</th>\n",
       "      <td>754.857303</td>\n",
       "      <td>756.799981</td>\n",
       "      <td>772.478364</td>\n",
       "      <td>738.150886</td>\n",
       "      <td>754.522418</td>\n",
       "      <td>754.474783</td>\n",
       "      <td>755.165515</td>\n",
       "      <td>2.236123e+06</td>\n",
       "      <td>1.024537e+14</td>\n",
       "      <td>48112.935668</td>\n",
       "      <td>9.957321e+05</td>\n",
       "      <td>0.459096</td>\n",
       "    </tr>\n",
       "    <tr>\n",
       "      <th>std</th>\n",
       "      <td>794.521897</td>\n",
       "      <td>803.371567</td>\n",
       "      <td>825.259513</td>\n",
       "      <td>768.613272</td>\n",
       "      <td>794.383479</td>\n",
       "      <td>794.159260</td>\n",
       "      <td>795.825682</td>\n",
       "      <td>4.827183e+06</td>\n",
       "      <td>1.741585e+14</td>\n",
       "      <td>46662.502048</td>\n",
       "      <td>1.324731e+06</td>\n",
       "      <td>0.185192</td>\n",
       "    </tr>\n",
       "    <tr>\n",
       "      <th>min</th>\n",
       "      <td>162.350000</td>\n",
       "      <td>163.100000</td>\n",
       "      <td>171.350000</td>\n",
       "      <td>159.400000</td>\n",
       "      <td>161.800000</td>\n",
       "      <td>162.350000</td>\n",
       "      <td>166.440000</td>\n",
       "      <td>1.003000e+03</td>\n",
       "      <td>4.355942e+11</td>\n",
       "      <td>692.000000</td>\n",
       "      <td>8.242000e+03</td>\n",
       "      <td>0.036400</td>\n",
       "    </tr>\n",
       "    <tr>\n",
       "      <th>25%</th>\n",
       "      <td>380.525000</td>\n",
       "      <td>380.575000</td>\n",
       "      <td>386.900000</td>\n",
       "      <td>374.475000</td>\n",
       "      <td>380.612500</td>\n",
       "      <td>380.525000</td>\n",
       "      <td>380.480000</td>\n",
       "      <td>6.937025e+05</td>\n",
       "      <td>4.319006e+13</td>\n",
       "      <td>25021.000000</td>\n",
       "      <td>3.023500e+05</td>\n",
       "      <td>0.332100</td>\n",
       "    </tr>\n",
       "    <tr>\n",
       "      <th>50%</th>\n",
       "      <td>503.400000</td>\n",
       "      <td>504.000000</td>\n",
       "      <td>510.800000</td>\n",
       "      <td>494.500000</td>\n",
       "      <td>503.800000</td>\n",
       "      <td>503.250000</td>\n",
       "      <td>503.450000</td>\n",
       "      <td>1.152270e+06</td>\n",
       "      <td>6.579357e+13</td>\n",
       "      <td>36659.500000</td>\n",
       "      <td>6.432110e+05</td>\n",
       "      <td>0.483000</td>\n",
       "    </tr>\n",
       "    <tr>\n",
       "      <th>75%</th>\n",
       "      <td>679.225000</td>\n",
       "      <td>680.000000</td>\n",
       "      <td>690.887500</td>\n",
       "      <td>670.812500</td>\n",
       "      <td>679.925000</td>\n",
       "      <td>678.687500</td>\n",
       "      <td>680.795000</td>\n",
       "      <td>2.004576e+06</td>\n",
       "      <td>1.075259e+14</td>\n",
       "      <td>55772.750000</td>\n",
       "      <td>1.197829e+06</td>\n",
       "      <td>0.596700</td>\n",
       "    </tr>\n",
       "    <tr>\n",
       "      <th>max</th>\n",
       "      <td>9587.450000</td>\n",
       "      <td>10350.000000</td>\n",
       "      <td>10350.000000</td>\n",
       "      <td>8928.350000</td>\n",
       "      <td>9640.000000</td>\n",
       "      <td>9587.450000</td>\n",
       "      <td>9607.140000</td>\n",
       "      <td>1.303677e+08</td>\n",
       "      <td>5.075003e+15</td>\n",
       "      <td>793471.000000</td>\n",
       "      <td>3.554140e+07</td>\n",
       "      <td>0.939400</td>\n",
       "    </tr>\n",
       "  </tbody>\n",
       "</table>\n",
       "</div>"
      ],
      "text/plain": [
       "        Prev Close          Open          High          Low         Last  \\\n",
       "count  5306.000000   5306.000000   5306.000000  5306.000000  5306.000000   \n",
       "mean    754.857303    756.799981    772.478364   738.150886   754.522418   \n",
       "std     794.521897    803.371567    825.259513   768.613272   794.383479   \n",
       "min     162.350000    163.100000    171.350000   159.400000   161.800000   \n",
       "25%     380.525000    380.575000    386.900000   374.475000   380.612500   \n",
       "50%     503.400000    504.000000    510.800000   494.500000   503.800000   \n",
       "75%     679.225000    680.000000    690.887500   670.812500   679.925000   \n",
       "max    9587.450000  10350.000000  10350.000000  8928.350000  9640.000000   \n",
       "\n",
       "             Close         VWAP        Volume      Turnover         Trades  \\\n",
       "count  5306.000000  5306.000000  5.306000e+03  5.306000e+03    2456.000000   \n",
       "mean    754.474783   755.165515  2.236123e+06  1.024537e+14   48112.935668   \n",
       "std     794.159260   795.825682  4.827183e+06  1.741585e+14   46662.502048   \n",
       "min     162.350000   166.440000  1.003000e+03  4.355942e+11     692.000000   \n",
       "25%     380.525000   380.480000  6.937025e+05  4.319006e+13   25021.000000   \n",
       "50%     503.250000   503.450000  1.152270e+06  6.579357e+13   36659.500000   \n",
       "75%     678.687500   680.795000  2.004576e+06  1.075259e+14   55772.750000   \n",
       "max    9587.450000  9607.140000  1.303677e+08  5.075003e+15  793471.000000   \n",
       "\n",
       "       Deliverable Volume  %Deliverble  \n",
       "count        4.797000e+03  4797.000000  \n",
       "mean         9.957321e+05     0.459096  \n",
       "std          1.324731e+06     0.185192  \n",
       "min          8.242000e+03     0.036400  \n",
       "25%          3.023500e+05     0.332100  \n",
       "50%          6.432110e+05     0.483000  \n",
       "75%          1.197829e+06     0.596700  \n",
       "max          3.554140e+07     0.939400  "
      ]
     },
     "execution_count": 47,
     "metadata": {},
     "output_type": "execute_result"
    }
   ],
   "source": [
    "df.describe()"
   ]
  },
  {
   "cell_type": "code",
   "execution_count": 48,
   "id": "e08792a1-1381-4edc-8a07-a7dd6381cfba",
   "metadata": {},
   "outputs": [],
   "source": [
    "data = df.filter(['Close'])\n",
    "dataset = data.values\n",
    "training_data_len = int(np.ceil(len(dataset) * 0.8))"
   ]
  },
  {
   "cell_type": "code",
   "execution_count": 49,
   "id": "6724b79f-c02e-4b28-b686-3e7df6ab52fa",
   "metadata": {},
   "outputs": [],
   "source": [
    "Scaled_range = MinMaxScaler(feature_range=(0, 1))\n",
    "scaled_data = Scaled_range.fit_transform(dataset)"
   ]
  },
  {
   "cell_type": "code",
   "execution_count": 50,
   "id": "7d8249e1-50a9-4922-a49c-33f5a3cfb87c",
   "metadata": {},
   "outputs": [],
   "source": [
    "train_data = scaled_data[0:training_data_len, :]\n",
    "x_train = []\n",
    "y_train = []"
   ]
  },
  {
   "cell_type": "code",
   "execution_count": 51,
   "id": "7ba0d57e-341c-4c59-826f-3838c296f86a",
   "metadata": {},
   "outputs": [],
   "source": [
    "for i in range(60, len(train_data)):\n",
    "    x_train.append(train_data[i - 60:i, 0])\n",
    "    y_train.append(train_data[i, 0])"
   ]
  },
  {
   "cell_type": "code",
   "execution_count": 52,
   "id": "6931d23d-7d18-4db6-b30c-0938fcbc7351",
   "metadata": {},
   "outputs": [],
   "source": [
    "x_train, y_train = np.array(x_train), np.array(y_train)"
   ]
  },
  {
   "cell_type": "code",
   "execution_count": 53,
   "id": "d60b1459-7ae4-4582-bc15-585ee89e1abe",
   "metadata": {},
   "outputs": [],
   "source": [
    "x_train = np.reshape(x_train, (x_train.shape[0], x_train.shape[1], 1))"
   ]
  },
  {
   "cell_type": "code",
   "execution_count": 54,
   "id": "56aebf76-cc8b-4531-9cf3-c4db3942b543",
   "metadata": {},
   "outputs": [],
   "source": [
    "model = Sequential()\n",
    "model.add(LSTM(50, return_sequences=True, input_shape=(x_train.shape[1], 1)))\n",
    "model.add(LSTM(50, return_sequences=False))\n",
    "model.add(Dense(25))\n",
    "model.add(Dense(1))"
   ]
  },
  {
   "cell_type": "code",
   "execution_count": 55,
   "id": "523f7a0c-a4f5-4ab3-b1a2-ca3ea4d15f55",
   "metadata": {},
   "outputs": [],
   "source": [
    "model.compile(optimizer='adam', loss='mean_squared_error')"
   ]
  },
  {
   "cell_type": "code",
   "execution_count": 64,
   "id": "06ae6fb7-1110-4468-a78c-5767ab16db55",
   "metadata": {},
   "outputs": [
    {
     "name": "stdout",
     "output_type": "stream",
     "text": [
      "Epoch 1/5\n",
      "4185/4185 [==============================] - 58s 14ms/step - loss: 8.6883e-05\n",
      "Epoch 2/5\n",
      "4185/4185 [==============================] - 58s 14ms/step - loss: 8.0483e-05\n",
      "Epoch 3/5\n",
      "4185/4185 [==============================] - 63s 15ms/step - loss: 5.8602e-05\n",
      "Epoch 4/5\n",
      "4185/4185 [==============================] - 61s 15ms/step - loss: 5.4262e-05\n",
      "Epoch 5/5\n",
      "4185/4185 [==============================] - 61s 15ms/step - loss: 5.1356e-05\n"
     ]
    },
    {
     "data": {
      "text/plain": [
       "<keras.src.callbacks.History at 0x1d20e62abd0>"
      ]
     },
     "execution_count": 64,
     "metadata": {},
     "output_type": "execute_result"
    }
   ],
   "source": [
    "model.fit(x_train, y_train, batch_size=1, epochs=5)"
   ]
  },
  {
   "cell_type": "code",
   "execution_count": 66,
   "id": "0b80dfac-fb24-493a-a95c-70ee2d9ec8a0",
   "metadata": {},
   "outputs": [],
   "source": [
    "tested_data = scaled_data[training_data_len - 60:, :]\n",
    "x_test = []\n",
    "y_test = dataset[training_data_len:, :]\n",
    "for i in range(60, len(tested_data)):\n",
    "    x_test.append(tested_data[i - 60:i, 0])"
   ]
  },
  {
   "cell_type": "code",
   "execution_count": 75,
   "id": "03065686-ea95-47ab-8975-9e40fffc7bcb",
   "metadata": {},
   "outputs": [
    {
     "name": "stdout",
     "output_type": "stream",
     "text": [
      "34/34 [==============================] - 0s 10ms/step\n"
     ]
    }
   ],
   "source": [
    "x_test = np.array(x_test)\n",
    "\n",
    "x_test = np.reshape(x_test, (x_test.shape[0], x_test.shape[1], 1))\n",
    "predictions = model.predict(x_test)\n",
    "#predictions = Scale.inverse_transform(predictions)"
   ]
  },
  {
   "cell_type": "code",
   "execution_count": 68,
   "id": "0ee8b142-bf86-4a02-9bc9-e64b1dc1f218",
   "metadata": {},
   "outputs": [
    {
     "name": "stdout",
     "output_type": "stream",
     "text": [
      "Root Mean Squared Error: 313.3700451775518\n"
     ]
    }
   ],
   "source": [
    "rmse = np.sqrt(np.mean(predictions - y_test) ** 2)\n",
    "print('Root Mean Squared Error:', rmse)"
   ]
  },
  {
   "cell_type": "code",
   "execution_count": 69,
   "id": "cb1624f1-0ee5-412f-a6ca-6c0e848ae745",
   "metadata": {},
   "outputs": [
    {
     "name": "stderr",
     "output_type": "stream",
     "text": [
      "C:\\Users\\anand\\AppData\\Local\\Temp\\ipykernel_5736\\90838933.py:3: SettingWithCopyWarning: \n",
      "A value is trying to be set on a copy of a slice from a DataFrame.\n",
      "Try using .loc[row_indexer,col_indexer] = value instead\n",
      "\n",
      "See the caveats in the documentation: https://pandas.pydata.org/pandas-docs/stable/user_guide/indexing.html#returning-a-view-versus-a-copy\n",
      "  valid['Predictions'] = predictions\n"
     ]
    },
    {
     "data": {
      "image/png": "[encoded data removed]",
      "text/plain": [
       "<Figure size 1600x800 with 1 Axes>"
      ]
     },
     "metadata": {},
     "output_type": "display_data"
    }
   ],
   "source": [
    "train = data[:training_data_len]\n",
    "valid = data[training_data_len:]\n",
    "valid['Predictions'] = predictions\n",
    "\n",
    "plt.figure(figsize=(16, 8))\n",
    "plt.title('Stock Price Prediction')\n",
    "plt.xlabel('Date')\n",
    "plt.ylabel('Close Price (USD)')\n",
    "plt.plot(train['Close'])\n",
    "plt.plot(valid[['Close', 'Predictions']])\n",
    "plt.legend(['Train', 'Actual', 'Predicted'], loc='lower right')\n",
    "plt.show()"
   ]
  },
  {
   "cell_type": "code",
   "execution_count": null,
   "id": "343d5e69-c3ab-438a-84ce-9284e3b2e181",
   "metadata": {},
   "outputs": [],
   "source": []
  },
  {
   "cell_type": "code",
   "execution_count": null,
   "id": "55feb52e-e868-4d21-941a-b57c373af78f",
   "metadata": {},
   "outputs": [],
   "source": []
  },
  {
   "cell_type": "code",
   "execution_count": null,
   "id": "00b30306-92b8-4c3b-867b-c5240093821d",
   "metadata": {},
   "outputs": [],
   "source": []
  }
 ],
 "metadata": {
  "kernelspec": {
   "display_name": "Python 3 (ipykernel)",
   "language": "python",
   "name": "python3"
  },
  "language_info": {
   "codemirror_mode": {
    "name": "ipython",
    "version": 3
   },
   "file_extension": ".py",
   "mimetype": "text/x-python",
   "name": "python",
   "nbconvert_exporter": "python",
   "pygments_lexer": "ipython3",
   "version": "3.11.6"
  }
 },
 "nbformat": 4,
 "nbformat_minor": 5
}
